{
 "cells": [
  {
   "cell_type": "code",
   "execution_count": 30,
   "metadata": {},
   "outputs": [],
   "source": [
    "import numpy as np\n",
    "import pandas as pd\n",
    "import matplotlib.pyplot as plt\n",
    "import seaborn as sns"
   ]
  },
  {
   "cell_type": "code",
   "execution_count": 31,
   "metadata": {},
   "outputs": [],
   "source": [
    "csv_file_path = \"/home/pbhati12/New_kaggle_dataset.csv\"\n",
    "df = pd.read_csv(csv_file_path)"
   ]
  },
  {
   "cell_type": "code",
   "execution_count": 3,
   "metadata": {},
   "outputs": [
    {
     "name": "stdout",
     "output_type": "stream",
     "text": [
      "<class 'pandas.core.frame.DataFrame'>\n",
      "RangeIndex: 7728394 entries, 0 to 7728393\n",
      "Data columns (total 21 columns):\n",
      " #   Column             Dtype  \n",
      "---  ------             -----  \n",
      " 0   Unnamed: 0         int64  \n",
      " 1   ID                 object \n",
      " 2   Source             object \n",
      " 3   Severity           int64  \n",
      " 4   Start_Time         object \n",
      " 5   End_Time           object \n",
      " 6   Distance(mi)       float64\n",
      " 7   Description        object \n",
      " 8   City               object \n",
      " 9   State              object \n",
      " 10  Temperature(F)     float64\n",
      " 11  Visibility(mi)     float64\n",
      " 12  Wind_Speed(mph)    float64\n",
      " 13  Precipitation(in)  float64\n",
      " 14  Weather_Condition  object \n",
      " 15  Crossing           bool   \n",
      " 16  Junction           bool   \n",
      " 17  Station            bool   \n",
      " 18  Stop               bool   \n",
      " 19  Traffic_Signal     bool   \n",
      " 20  Sunrise_Sunset     object \n",
      "dtypes: bool(5), float64(5), int64(2), object(9)\n",
      "memory usage: 980.3+ MB\n"
     ]
    }
   ],
   "source": [
    "df.info()"
   ]
  },
  {
   "cell_type": "code",
   "execution_count": 4,
   "metadata": {},
   "outputs": [],
   "source": [
    "df = df.loc[:, ~df.columns.str.contains('^Unnamed')]"
   ]
  },
  {
   "cell_type": "code",
   "execution_count": 5,
   "metadata": {},
   "outputs": [
    {
     "data": {
      "text/plain": [
       "(7728394, 20)"
      ]
     },
     "execution_count": 5,
     "metadata": {},
     "output_type": "execute_result"
    }
   ],
   "source": [
    "df.shape"
   ]
  },
  {
   "cell_type": "code",
   "execution_count": 6,
   "metadata": {},
   "outputs": [],
   "source": [
    "df.drop(columns=['Source'], inplace=True)"
   ]
  },
  {
   "cell_type": "code",
   "execution_count": 7,
   "metadata": {},
   "outputs": [],
   "source": [
    "df = df.dropna(subset=['City'])"
   ]
  },
  {
   "cell_type": "code",
   "execution_count": 8,
   "metadata": {},
   "outputs": [],
   "source": [
    "# mode imputation for precipitation\n",
    "\n",
    "df['Precipitation(in)'].fillna(df['Precipitation(in)'].mode()[0], inplace=True)"
   ]
  },
  {
   "cell_type": "code",
   "execution_count": 9,
   "metadata": {},
   "outputs": [],
   "source": [
    "## median imputation for wind speed\n",
    "\n",
    "df['Wind_Speed(mph)'].fillna(df['Wind_Speed(mph)'].median(), inplace=True)"
   ]
  },
  {
   "cell_type": "code",
   "execution_count": 10,
   "metadata": {},
   "outputs": [],
   "source": [
    "#median imputation for visibility\n",
    "\n",
    "df.loc[:, 'Visibility(mi)'] = df['Visibility(mi)'].fillna(df['Visibility(mi)'].median())"
   ]
  },
  {
   "cell_type": "code",
   "execution_count": 11,
   "metadata": {},
   "outputs": [],
   "source": [
    "# mean imputation for temperature\n",
    "df.loc[:, 'Temperature(F)'] = df['Temperature(F)'].fillna(df['Temperature(F)'].mean())"
   ]
  },
  {
   "cell_type": "code",
   "execution_count": 12,
   "metadata": {},
   "outputs": [],
   "source": [
    "## imputing Weather_condition with 'Unknown' values fo NA\n",
    "\n",
    "df.loc[:, 'Weather_Condition'] = df['Weather_Condition'].fillna('Unknown')"
   ]
  },
  {
   "cell_type": "code",
   "execution_count": 13,
   "metadata": {},
   "outputs": [],
   "source": [
    "# Removing rows with null values of sunrise_sunset\n",
    "\n",
    "df = df.dropna(subset=['Sunrise_Sunset'])"
   ]
  },
  {
   "cell_type": "code",
   "execution_count": 14,
   "metadata": {},
   "outputs": [],
   "source": [
    "# Removing the nano-seconds that are present in some of the rows\n",
    "df['Start_Time'] = df['Start_Time'].str.split('.').str[0]\n",
    "\n",
    "# Convert the 'time_column' to datetime format\n",
    "df['Start_Time'] = pd.to_datetime(df['Start_Time'], errors=\"raise\")"
   ]
  },
  {
   "cell_type": "code",
   "execution_count": 15,
   "metadata": {},
   "outputs": [],
   "source": [
    "# Adding new time features\n",
    "df['Year'] = df['Start_Time'].dt.year\n",
    "df['Month'] = df['Start_Time'].dt.month\n",
    "df['Day'] = df['Start_Time'].dt.day\n",
    "df['Day_Name'] = df['Start_Time'].dt.day_name()\n",
    "df['Is_Weekend'] = df['Start_Time'].dt.dayofweek.apply(lambda x: 1 if x >= 5 else 0)\n",
    "df['Is_Rush_Hour'] = df['Start_Time'].dt.hour.apply(lambda x: 1 if ((6 <= x < 9) or (15 <= x < 18)) else 0)"
   ]
  },
  {
   "cell_type": "code",
   "execution_count": 16,
   "metadata": {},
   "outputs": [],
   "source": [
    "# Creating 3 new, bad weather features\n",
    "df['is_snow'] = df['Weather_Condition'].fillna('').apply(lambda x: 1 if 'snow' in x.lower() else 0)\n",
    "df['is_rain'] = df['Weather_Condition'].fillna('').apply(lambda x: 1 if 'rain' in x.lower() else 0)\n",
    "df['is_fog'] = df['Weather_Condition'].fillna('').apply(lambda x: 1 if 'fog' in x.lower() else 0)"
   ]
  },
  {
   "cell_type": "code",
   "execution_count": 17,
   "metadata": {},
   "outputs": [],
   "source": [
    "# Add \"isNight\" column based on \"time_of_day\" column\n",
    "df['isNight'] = df['Sunrise_Sunset'].apply(lambda x: 1 if x == 'Night' else 0)"
   ]
  },
  {
   "cell_type": "code",
   "execution_count": 18,
   "metadata": {},
   "outputs": [],
   "source": [
    "# Create a dictionary mapping day names to numbers\n",
    "day_mapping = {'Monday': 0, 'Tuesday': 1, 'Wednesday': 2, 'Thursday': 3,\n",
    "               'Friday': 4, 'Saturday': 5, 'Sunday': 6}\n",
    "\n",
    "# Add a new column \"weekday\" based on the \"Day_Name\" mapping\n",
    "df['weekday'] = df['Day_Name'].map(day_mapping)"
   ]
  },
  {
   "cell_type": "code",
   "execution_count": null,
   "metadata": {},
   "outputs": [],
   "source": []
  },
  {
   "cell_type": "code",
   "execution_count": 19,
   "metadata": {},
   "outputs": [],
   "source": [
    "df['Severity'] = df['Severity'].astype('int32')\n",
    "df['Distance(mi)'] = df['Distance(mi)'].astype('float32')\n",
    "df['Temperature(F)'] = df['Temperature(F)'].astype('float32')\n",
    "df['Visibility(mi)'] = df['Visibility(mi)'].astype('float32')\n",
    "df['Wind_Speed(mph)'] = df['Wind_Speed(mph)'].astype('float32')\n",
    "df['Precipitation(in)'] = df['Precipitation(in)'].astype('float32')\n",
    "df['weekday'] = df['weekday'].astype('int32')\n",
    "df['isNight'] = df['isNight'].astype('int32')\n",
    "df['is_fog'] = df['is_fog'].astype('int32')\n",
    "df['is_rain'] = df['is_rain'].astype('int32')\n",
    "df['is_snow'] = df['is_snow'].astype('int32')\n",
    "df['Is_Rush_Hour'] = df['Is_Rush_Hour'].astype('int32')\n",
    "df['Is_Weekend'] = df['Is_Weekend'].astype('int32')"
   ]
  },
  {
   "cell_type": "code",
   "execution_count": 20,
   "metadata": {},
   "outputs": [],
   "source": [
    "from sklearn.preprocessing import LabelEncoder\n",
    "le = LabelEncoder()\n",
    "\n",
    "# Fit and transform the 'Category' column\n",
    "df['State_encoded'] = le.fit_transform(df['State'])"
   ]
  },
  {
   "cell_type": "code",
   "execution_count": 21,
   "metadata": {},
   "outputs": [
    {
     "name": "stdout",
     "output_type": "stream",
     "text": [
      "<class 'pandas.core.frame.DataFrame'>\n",
      "Index: 7705148 entries, 0 to 7728393\n",
      "Data columns (total 31 columns):\n",
      " #   Column             Dtype         \n",
      "---  ------             -----         \n",
      " 0   ID                 object        \n",
      " 1   Severity           int32         \n",
      " 2   Start_Time         datetime64[ns]\n",
      " 3   End_Time           object        \n",
      " 4   Distance(mi)       float32       \n",
      " 5   Description        object        \n",
      " 6   City               object        \n",
      " 7   State              object        \n",
      " 8   Temperature(F)     float32       \n",
      " 9   Visibility(mi)     float32       \n",
      " 10  Wind_Speed(mph)    float32       \n",
      " 11  Precipitation(in)  float32       \n",
      " 12  Weather_Condition  object        \n",
      " 13  Crossing           bool          \n",
      " 14  Junction           bool          \n",
      " 15  Station            bool          \n",
      " 16  Stop               bool          \n",
      " 17  Traffic_Signal     bool          \n",
      " 18  Sunrise_Sunset     object        \n",
      " 19  Year               int32         \n",
      " 20  Month              int32         \n",
      " 21  Day                int32         \n",
      " 22  Day_Name           object        \n",
      " 23  Is_Weekend         int32         \n",
      " 24  Is_Rush_Hour       int32         \n",
      " 25  is_snow            int32         \n",
      " 26  is_rain            int32         \n",
      " 27  is_fog             int32         \n",
      " 28  isNight            int32         \n",
      " 29  weekday            int32         \n",
      " 30  State_encoded      int64         \n",
      "dtypes: bool(5), datetime64[ns](1), float32(5), int32(11), int64(1), object(8)\n",
      "memory usage: 1.1+ GB\n"
     ]
    }
   ],
   "source": [
    "df.info()"
   ]
  },
  {
   "cell_type": "code",
   "execution_count": 22,
   "metadata": {},
   "outputs": [],
   "source": [
    "# random forest\n",
    "\n",
    "X = df.drop(columns=['ID' , 'Severity', 'Start_Time', 'End_Time', 'Description', 'City', 'State', \n",
    "                     'Day_Name', 'Weather_Condition', 'Sunrise_Sunset'])\n",
    "y = df['Severity']"
   ]
  },
  {
   "cell_type": "code",
   "execution_count": 23,
   "metadata": {},
   "outputs": [],
   "source": [
    "from sklearn.model_selection import train_test_split\n",
    "X_train, X_test, y_train, y_test = train_test_split(X, y, test_size=0.2, random_state=42)"
   ]
  },
  {
   "cell_type": "code",
   "execution_count": 2,
   "metadata": {},
   "outputs": [],
   "source": [
    "from sklearn.svm import LinearSVC\n",
    "from sklearn.model_selection import GridSearchCV"
   ]
  },
  {
   "cell_type": "code",
   "execution_count": null,
   "metadata": {},
   "outputs": [],
   "source": [
    "param_grid = {\n",
    "    # Regularization parameter\n",
    "    'C': np.logspace(-3, 3, 7),  # [0.001, 0.01, 0.1, 1, 10, 100, 1000]\n",
    "    \n",
    "    # Loss function\n",
    "    'loss': ['hinge', 'squared_hinge'],\n",
    "    \n",
    "    # Penalty norm\n",
    "    'penalty': ['l1', 'l2'],\n",
    "    \n",
    "    # Dual or primal optimization\n",
    "    'dual': [True, False],\n",
    "    \n",
    "    # Class weights\n",
    "    'class_weight': ['balanced', None],\n",
    "    \n",
    "    # Maximum iterations\n",
    "    'max_iter': [1000, 2000, 5000],\n",
    "    \n",
    "    # Tolerance for stopping criterion\n",
    "    'tol': [1e-4, 1e-3, 1e-2]\n",
    "}\n",
    "\n",
    "\n",
    "svm = LinearSVC(random_state=42)\n",
    "\n",
    "grid_search = GridSearchCV(\n",
    "    estimator=svm,\n",
    "    param_grid=param_grid,\n",
    "    cv=5,  # 5-fold cross-validation\n",
    "    n_jobs=-1,  # Use all available cores\n",
    "    scoring='accuracy',  # Can be changed based on your metric\n",
    "    verbose=2,\n",
    "    return_train_score=True\n",
    ")\n",
    "\n",
    "grid_search.fit(X_train, y_train)\n",
    "\n",
    "best_params = grid_search.best_params_\n",
    "best_score = grid_search.best_score_\n",
    "print(f\"Best Parameters: {best_params}\")\n",
    "print(f\"Best Accuracy: {round(best_score * 100, 4)}\")\n"
   ]
  }
 ],
 "metadata": {
  "kaggle": {
   "accelerator": "none",
   "dataSources": [
    {
     "datasetId": 5842581,
     "sourceId": 9581683,
     "sourceType": "datasetVersion"
    }
   ],
   "dockerImageVersionId": 30786,
   "isGpuEnabled": false,
   "isInternetEnabled": true,
   "language": "python",
   "sourceType": "notebook"
  },
  "kernelspec": {
   "display_name": "Python 3 (ipykernel)",
   "language": "python",
   "name": "python3"
  },
  "language_info": {
   "codemirror_mode": {
    "name": "ipython",
    "version": 3
   },
   "file_extension": ".py",
   "mimetype": "text/x-python",
   "name": "python",
   "nbconvert_exporter": "python",
   "pygments_lexer": "ipython3",
   "version": "3.11.6"
  }
 },
 "nbformat": 4,
 "nbformat_minor": 4
}
