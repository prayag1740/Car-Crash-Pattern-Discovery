{
 "cells": [
  {
   "cell_type": "code",
   "execution_count": 30,
   "metadata": {},
   "outputs": [],
   "source": [
    "import numpy as np\n",
    "import pandas as pd\n",
    "import matplotlib.pyplot as plt\n",
    "import seaborn as sns"
   ]
  },
  {
   "cell_type": "code",
   "execution_count": 31,
   "metadata": {},
   "outputs": [],
   "source": [
    "csv_file_path = \"/home/pbhati12/New_kaggle_dataset.csv\"\n",
    "df = pd.read_csv(csv_file_path)"
   ]
  },
  {
   "cell_type": "code",
   "execution_count": 3,
   "metadata": {},
   "outputs": [
    {
     "name": "stdout",
     "output_type": "stream",
     "text": [
      "<class 'pandas.core.frame.DataFrame'>\n",
      "RangeIndex: 7728394 entries, 0 to 7728393\n",
      "Data columns (total 21 columns):\n",
      " #   Column             Dtype  \n",
      "---  ------             -----  \n",
      " 0   Unnamed: 0         int64  \n",
      " 1   ID                 object \n",
      " 2   Source             object \n",
      " 3   Severity           int64  \n",
      " 4   Start_Time         object \n",
      " 5   End_Time           object \n",
      " 6   Distance(mi)       float64\n",
      " 7   Description        object \n",
      " 8   City               object \n",
      " 9   State              object \n",
      " 10  Temperature(F)     float64\n",
      " 11  Visibility(mi)     float64\n",
      " 12  Wind_Speed(mph)    float64\n",
      " 13  Precipitation(in)  float64\n",
      " 14  Weather_Condition  object \n",
      " 15  Crossing           bool   \n",
      " 16  Junction           bool   \n",
      " 17  Station            bool   \n",
      " 18  Stop               bool   \n",
      " 19  Traffic_Signal     bool   \n",
      " 20  Sunrise_Sunset     object \n",
      "dtypes: bool(5), float64(5), int64(2), object(9)\n",
      "memory usage: 980.3+ MB\n"
     ]
    }
   ],
   "source": [
    "df.info()"
   ]
  },
  {
   "cell_type": "code",
   "execution_count": 4,
   "metadata": {},
   "outputs": [],
   "source": [
    "df = df.loc[:, ~df.columns.str.contains('^Unnamed')]"
   ]
  },
  {
   "cell_type": "code",
   "execution_count": 5,
   "metadata": {},
   "outputs": [
    {
     "data": {
      "text/plain": [
       "(7728394, 20)"
      ]
     },
     "execution_count": 5,
     "metadata": {},
     "output_type": "execute_result"
    }
   ],
   "source": [
    "df.shape"
   ]
  },
  {
   "cell_type": "code",
   "execution_count": 6,
   "metadata": {},
   "outputs": [],
   "source": [
    "df.drop(columns=['Source'], inplace=True)"
   ]
  },
  {
   "cell_type": "code",
   "execution_count": 7,
   "metadata": {},
   "outputs": [],
   "source": [
    "df = df.dropna(subset=['City'])"
   ]
  },
  {
   "cell_type": "code",
   "execution_count": 8,
   "metadata": {},
   "outputs": [],
   "source": [
    "# mode imputation for precipitation\n",
    "\n",
    "df['Precipitation(in)'].fillna(df['Precipitation(in)'].mode()[0], inplace=True)"
   ]
  },
  {
   "cell_type": "code",
   "execution_count": 9,
   "metadata": {},
   "outputs": [],
   "source": [
    "## median imputation for wind speed\n",
    "\n",
    "df['Wind_Speed(mph)'].fillna(df['Wind_Speed(mph)'].median(), inplace=True)"
   ]
  },
  {
   "cell_type": "code",
   "execution_count": 10,
   "metadata": {},
   "outputs": [],
   "source": [
    "#median imputation for visibility\n",
    "\n",
    "df.loc[:, 'Visibility(mi)'] = df['Visibility(mi)'].fillna(df['Visibility(mi)'].median())"
   ]
  },
  {
   "cell_type": "code",
   "execution_count": 11,
   "metadata": {},
   "outputs": [],
   "source": [
    "# mean imputation for temperature\n",
    "df.loc[:, 'Temperature(F)'] = df['Temperature(F)'].fillna(df['Temperature(F)'].mean())"
   ]
  },
  {
   "cell_type": "code",
   "execution_count": 12,
   "metadata": {},
   "outputs": [],
   "source": [
    "## imputing Weather_condition with 'Unknown' values fo NA\n",
    "\n",
    "df.loc[:, 'Weather_Condition'] = df['Weather_Condition'].fillna('Unknown')"
   ]
  },
  {
   "cell_type": "code",
   "execution_count": 13,
   "metadata": {},
   "outputs": [],
   "source": [
    "# Removing rows with null values of sunrise_sunset\n",
    "\n",
    "df = df.dropna(subset=['Sunrise_Sunset'])"
   ]
  },
  {
   "cell_type": "code",
   "execution_count": 14,
   "metadata": {},
   "outputs": [],
   "source": [
    "# Removing the nano-seconds that are present in some of the rows\n",
    "df['Start_Time'] = df['Start_Time'].str.split('.').str[0]\n",
    "\n",
    "# Convert the 'time_column' to datetime format\n",
    "df['Start_Time'] = pd.to_datetime(df['Start_Time'], errors=\"raise\")"
   ]
  },
  {
   "cell_type": "code",
   "execution_count": 15,
   "metadata": {},
   "outputs": [],
   "source": [
    "# Adding new time features\n",
    "df['Year'] = df['Start_Time'].dt.year\n",
    "df['Month'] = df['Start_Time'].dt.month\n",
    "df['Day'] = df['Start_Time'].dt.day\n",
    "df['Day_Name'] = df['Start_Time'].dt.day_name()\n",
    "df['Is_Weekend'] = df['Start_Time'].dt.dayofweek.apply(lambda x: 1 if x >= 5 else 0)\n",
    "df['Is_Rush_Hour'] = df['Start_Time'].dt.hour.apply(lambda x: 1 if ((6 <= x < 9) or (15 <= x < 18)) else 0)"
   ]
  },
  {
   "cell_type": "code",
   "execution_count": 16,
   "metadata": {},
   "outputs": [],
   "source": [
    "# Creating 3 new, bad weather features\n",
    "df['is_snow'] = df['Weather_Condition'].fillna('').apply(lambda x: 1 if 'snow' in x.lower() else 0)\n",
    "df['is_rain'] = df['Weather_Condition'].fillna('').apply(lambda x: 1 if 'rain' in x.lower() else 0)\n",
    "df['is_fog'] = df['Weather_Condition'].fillna('').apply(lambda x: 1 if 'fog' in x.lower() else 0)"
   ]
  },
  {
   "cell_type": "code",
   "execution_count": 17,
   "metadata": {},
   "outputs": [],
   "source": [
    "# Add \"isNight\" column based on \"time_of_day\" column\n",
    "df['isNight'] = df['Sunrise_Sunset'].apply(lambda x: 1 if x == 'Night' else 0)"
   ]
  },
  {
   "cell_type": "code",
   "execution_count": 18,
   "metadata": {},
   "outputs": [],
   "source": [
    "# Create a dictionary mapping day names to numbers\n",
    "day_mapping = {'Monday': 0, 'Tuesday': 1, 'Wednesday': 2, 'Thursday': 3,\n",
    "               'Friday': 4, 'Saturday': 5, 'Sunday': 6}\n",
    "\n",
    "# Add a new column \"weekday\" based on the \"Day_Name\" mapping\n",
    "df['weekday'] = df['Day_Name'].map(day_mapping)"
   ]
  },
  {
   "cell_type": "code",
   "execution_count": null,
   "metadata": {},
   "outputs": [],
   "source": []
  },
  {
   "cell_type": "code",
   "execution_count": 19,
   "metadata": {},
   "outputs": [],
   "source": [
    "df['Severity'] = df['Severity'].astype('int32')\n",
    "df['Distance(mi)'] = df['Distance(mi)'].astype('float32')\n",
    "df['Temperature(F)'] = df['Temperature(F)'].astype('float32')\n",
    "df['Visibility(mi)'] = df['Visibility(mi)'].astype('float32')\n",
    "df['Wind_Speed(mph)'] = df['Wind_Speed(mph)'].astype('float32')\n",
    "df['Precipitation(in)'] = df['Precipitation(in)'].astype('float32')\n",
    "df['weekday'] = df['weekday'].astype('int32')\n",
    "df['isNight'] = df['isNight'].astype('int32')\n",
    "df['is_fog'] = df['is_fog'].astype('int32')\n",
    "df['is_rain'] = df['is_rain'].astype('int32')\n",
    "df['is_snow'] = df['is_snow'].astype('int32')\n",
    "df['Is_Rush_Hour'] = df['Is_Rush_Hour'].astype('int32')\n",
    "df['Is_Weekend'] = df['Is_Weekend'].astype('int32')"
   ]
  },
  {
   "cell_type": "code",
   "execution_count": 20,
   "metadata": {},
   "outputs": [],
   "source": [
    "from sklearn.preprocessing import LabelEncoder\n",
    "le = LabelEncoder()\n",
    "\n",
    "# Fit and transform the 'Category' column\n",
    "df['State_encoded'] = le.fit_transform(df['State'])"
   ]
  },
  {
   "cell_type": "code",
   "execution_count": 21,
   "metadata": {},
   "outputs": [
    {
     "name": "stdout",
     "output_type": "stream",
     "text": [
      "<class 'pandas.core.frame.DataFrame'>\n",
      "Index: 7705148 entries, 0 to 7728393\n",
      "Data columns (total 31 columns):\n",
      " #   Column             Dtype         \n",
      "---  ------             -----         \n",
      " 0   ID                 object        \n",
      " 1   Severity           int32         \n",
      " 2   Start_Time         datetime64[ns]\n",
      " 3   End_Time           object        \n",
      " 4   Distance(mi)       float32       \n",
      " 5   Description        object        \n",
      " 6   City               object        \n",
      " 7   State              object        \n",
      " 8   Temperature(F)     float32       \n",
      " 9   Visibility(mi)     float32       \n",
      " 10  Wind_Speed(mph)    float32       \n",
      " 11  Precipitation(in)  float32       \n",
      " 12  Weather_Condition  object        \n",
      " 13  Crossing           bool          \n",
      " 14  Junction           bool          \n",
      " 15  Station            bool          \n",
      " 16  Stop               bool          \n",
      " 17  Traffic_Signal     bool          \n",
      " 18  Sunrise_Sunset     object        \n",
      " 19  Year               int32         \n",
      " 20  Month              int32         \n",
      " 21  Day                int32         \n",
      " 22  Day_Name           object        \n",
      " 23  Is_Weekend         int32         \n",
      " 24  Is_Rush_Hour       int32         \n",
      " 25  is_snow            int32         \n",
      " 26  is_rain            int32         \n",
      " 27  is_fog             int32         \n",
      " 28  isNight            int32         \n",
      " 29  weekday            int32         \n",
      " 30  State_encoded      int64         \n",
      "dtypes: bool(5), datetime64[ns](1), float32(5), int32(11), int64(1), object(8)\n",
      "memory usage: 1.1+ GB\n"
     ]
    }
   ],
   "source": [
    "df.info()"
   ]
  },
  {
   "cell_type": "code",
   "execution_count": 22,
   "metadata": {},
   "outputs": [],
   "source": [
    "# random forest\n",
    "\n",
    "X = df.drop(columns=['ID' , 'Severity', 'Start_Time', 'End_Time', 'Description', 'City', 'State', \n",
    "                     'Day_Name', 'Weather_Condition', 'Sunrise_Sunset'])\n",
    "y = df['Severity']"
   ]
  },
  {
   "cell_type": "code",
   "execution_count": 23,
   "metadata": {},
   "outputs": [],
   "source": [
    "from sklearn.model_selection import train_test_split\n",
    "X_train, X_test, y_train, y_test = train_test_split(X, y, test_size=0.2, random_state=42)"
   ]
  },
  {
   "cell_type": "code",
   "execution_count": 24,
   "metadata": {},
   "outputs": [],
   "source": [
    "from sklearn.ensemble import RandomForestClassifier\n",
    "from sklearn.metrics import accuracy_score, classification_report, confusion_matrix"
   ]
  },
  {
   "cell_type": "code",
   "execution_count": 25,
   "metadata": {},
   "outputs": [
    {
     "name": "stderr",
     "output_type": "stream",
     "text": [
      "[Parallel(n_jobs=20)]: Using backend ThreadingBackend with 20 concurrent workers.\n",
      "[Parallel(n_jobs=20)]: Done  10 tasks      | elapsed:   32.4s\n",
      "[Parallel(n_jobs=20)]: Done 160 tasks      | elapsed:  4.1min\n",
      "[Parallel(n_jobs=20)]: Done 300 out of 300 | elapsed:  7.3min finished\n"
     ]
    },
    {
     "data": {
      "text/html": [
       "<style>#sk-container-id-1 {color: black;}#sk-container-id-1 pre{padding: 0;}#sk-container-id-1 div.sk-toggleable {background-color: white;}#sk-container-id-1 label.sk-toggleable__label {cursor: pointer;display: block;width: 100%;margin-bottom: 0;padding: 0.3em;box-sizing: border-box;text-align: center;}#sk-container-id-1 label.sk-toggleable__label-arrow:before {content: \"▸\";float: left;margin-right: 0.25em;color: #696969;}#sk-container-id-1 label.sk-toggleable__label-arrow:hover:before {color: black;}#sk-container-id-1 div.sk-estimator:hover label.sk-toggleable__label-arrow:before {color: black;}#sk-container-id-1 div.sk-toggleable__content {max-height: 0;max-width: 0;overflow: hidden;text-align: left;background-color: #f0f8ff;}#sk-container-id-1 div.sk-toggleable__content pre {margin: 0.2em;color: black;border-radius: 0.25em;background-color: #f0f8ff;}#sk-container-id-1 input.sk-toggleable__control:checked~div.sk-toggleable__content {max-height: 200px;max-width: 100%;overflow: auto;}#sk-container-id-1 input.sk-toggleable__control:checked~label.sk-toggleable__label-arrow:before {content: \"▾\";}#sk-container-id-1 div.sk-estimator input.sk-toggleable__control:checked~label.sk-toggleable__label {background-color: #d4ebff;}#sk-container-id-1 div.sk-label input.sk-toggleable__control:checked~label.sk-toggleable__label {background-color: #d4ebff;}#sk-container-id-1 input.sk-hidden--visually {border: 0;clip: rect(1px 1px 1px 1px);clip: rect(1px, 1px, 1px, 1px);height: 1px;margin: -1px;overflow: hidden;padding: 0;position: absolute;width: 1px;}#sk-container-id-1 div.sk-estimator {font-family: monospace;background-color: #f0f8ff;border: 1px dotted black;border-radius: 0.25em;box-sizing: border-box;margin-bottom: 0.5em;}#sk-container-id-1 div.sk-estimator:hover {background-color: #d4ebff;}#sk-container-id-1 div.sk-parallel-item::after {content: \"\";width: 100%;border-bottom: 1px solid gray;flex-grow: 1;}#sk-container-id-1 div.sk-label:hover label.sk-toggleable__label {background-color: #d4ebff;}#sk-container-id-1 div.sk-serial::before {content: \"\";position: absolute;border-left: 1px solid gray;box-sizing: border-box;top: 0;bottom: 0;left: 50%;z-index: 0;}#sk-container-id-1 div.sk-serial {display: flex;flex-direction: column;align-items: center;background-color: white;padding-right: 0.2em;padding-left: 0.2em;position: relative;}#sk-container-id-1 div.sk-item {position: relative;z-index: 1;}#sk-container-id-1 div.sk-parallel {display: flex;align-items: stretch;justify-content: center;background-color: white;position: relative;}#sk-container-id-1 div.sk-item::before, #sk-container-id-1 div.sk-parallel-item::before {content: \"\";position: absolute;border-left: 1px solid gray;box-sizing: border-box;top: 0;bottom: 0;left: 50%;z-index: -1;}#sk-container-id-1 div.sk-parallel-item {display: flex;flex-direction: column;z-index: 1;position: relative;background-color: white;}#sk-container-id-1 div.sk-parallel-item:first-child::after {align-self: flex-end;width: 50%;}#sk-container-id-1 div.sk-parallel-item:last-child::after {align-self: flex-start;width: 50%;}#sk-container-id-1 div.sk-parallel-item:only-child::after {width: 0;}#sk-container-id-1 div.sk-dashed-wrapped {border: 1px dashed gray;margin: 0 0.4em 0.5em 0.4em;box-sizing: border-box;padding-bottom: 0.4em;background-color: white;}#sk-container-id-1 div.sk-label label {font-family: monospace;font-weight: bold;display: inline-block;line-height: 1.2em;}#sk-container-id-1 div.sk-label-container {text-align: center;}#sk-container-id-1 div.sk-container {/* jupyter's `normalize.less` sets `[hidden] { display: none; }` but bootstrap.min.css set `[hidden] { display: none !important; }` so we also need the `!important` here to be able to override the default hidden behavior on the sphinx rendered scikit-learn.org. See: https://github.com/scikit-learn/scikit-learn/issues/21755 */display: inline-block !important;position: relative;}#sk-container-id-1 div.sk-text-repr-fallback {display: none;}</style><div id=\"sk-container-id-1\" class=\"sk-top-container\"><div class=\"sk-text-repr-fallback\"><pre>RandomForestClassifier(n_estimators=300, n_jobs=20, random_state=42, verbose=1)</pre><b>In a Jupyter environment, please rerun this cell to show the HTML representation or trust the notebook. <br />On GitHub, the HTML representation is unable to render, please try loading this page with nbviewer.org.</b></div><div class=\"sk-container\" hidden><div class=\"sk-item\"><div class=\"sk-estimator sk-toggleable\"><input class=\"sk-toggleable__control sk-hidden--visually\" id=\"sk-estimator-id-1\" type=\"checkbox\" checked><label for=\"sk-estimator-id-1\" class=\"sk-toggleable__label sk-toggleable__label-arrow\">RandomForestClassifier</label><div class=\"sk-toggleable__content\"><pre>RandomForestClassifier(n_estimators=300, n_jobs=20, random_state=42, verbose=1)</pre></div></div></div></div></div>"
      ],
      "text/plain": [
       "RandomForestClassifier(n_estimators=300, n_jobs=20, random_state=42, verbose=1)"
      ]
     },
     "execution_count": 25,
     "metadata": {},
     "output_type": "execute_result"
    }
   ],
   "source": [
    "rf = RandomForestClassifier(n_estimators=200, random_state=42, verbose=1, n_jobs=20)\n",
    "rf.fit(X_train, y_train)"
   ]
  },
  {
   "cell_type": "code",
   "execution_count": 26,
   "metadata": {},
   "outputs": [
    {
     "name": "stderr",
     "output_type": "stream",
     "text": [
      "[Parallel(n_jobs=20)]: Using backend ThreadingBackend with 20 concurrent workers.\n",
      "[Parallel(n_jobs=20)]: Done  10 tasks      | elapsed:    2.0s\n",
      "[Parallel(n_jobs=20)]: Done 160 tasks      | elapsed:   17.5s\n"
     ]
    },
    {
     "name": "stdout",
     "output_type": "stream",
     "text": [
      "Accuracy: 0.8336\n"
     ]
    },
    {
     "name": "stderr",
     "output_type": "stream",
     "text": [
      "[Parallel(n_jobs=20)]: Done 300 out of 300 | elapsed:   30.8s finished\n"
     ]
    }
   ],
   "source": [
    "accuracy = rf.score(X_test, y_test)\n",
    "print(f'Accuracy: {accuracy:.4f}')"
   ]
  },
  {
   "cell_type": "code",
   "execution_count": 27,
   "metadata": {},
   "outputs": [
    {
     "name": "stderr",
     "output_type": "stream",
     "text": [
      "[Parallel(n_jobs=20)]: Using backend ThreadingBackend with 20 concurrent workers.\n",
      "[Parallel(n_jobs=20)]: Done  10 tasks      | elapsed:    1.9s\n",
      "[Parallel(n_jobs=20)]: Done 160 tasks      | elapsed:   16.7s\n",
      "[Parallel(n_jobs=20)]: Done 300 out of 300 | elapsed:   29.8s finished\n"
     ]
    }
   ],
   "source": [
    "y_pred = rf.predict(X_test)"
   ]
  },
  {
   "cell_type": "code",
   "execution_count": 28,
   "metadata": {},
   "outputs": [],
   "source": [
    "accuracy_score = accuracy_score(y_test, y_pred)\n",
    "report = classification_report(y_test, y_pred)\n"
   ]
  },
  {
   "cell_type": "code",
   "execution_count": 29,
   "metadata": {},
   "outputs": [
    {
     "name": "stdout",
     "output_type": "stream",
     "text": [
      "0.8336002543753204\n",
      "              precision    recall  f1-score   support\n",
      "\n",
      "           1       0.66      0.55      0.60     13495\n",
      "           2       0.88      0.93      0.90   1226877\n",
      "           3       0.61      0.49      0.54    259955\n",
      "           4       0.51      0.27      0.35     40703\n",
      "\n",
      "    accuracy                           0.83   1541030\n",
      "   macro avg       0.66      0.56      0.60   1541030\n",
      "weighted avg       0.82      0.83      0.82   1541030\n",
      "\n"
     ]
    }
   ],
   "source": [
    "print(accuracy_score)\n",
    "print(report)"
   ]
  },
  {
   "cell_type": "code",
   "execution_count": null,
   "metadata": {},
   "outputs": [],
   "source": [
    "\n",
    "\n"
   ]
  }
 ],
 "metadata": {
  "kaggle": {
   "accelerator": "none",
   "dataSources": [
    {
     "datasetId": 5842581,
     "sourceId": 9581683,
     "sourceType": "datasetVersion"
    }
   ],
   "dockerImageVersionId": 30786,
   "isGpuEnabled": false,
   "isInternetEnabled": true,
   "language": "python",
   "sourceType": "notebook"
  },
  "kernelspec": {
   "display_name": "Python 3 (ipykernel)",
   "language": "python",
   "name": "python3"
  },
  "language_info": {
   "codemirror_mode": {
    "name": "ipython",
    "version": 3
   },
   "file_extension": ".py",
   "mimetype": "text/x-python",
   "name": "python",
   "nbconvert_exporter": "python",
   "pygments_lexer": "ipython3",
   "version": "3.11.6"
  }
 },
 "nbformat": 4,
 "nbformat_minor": 4
}
